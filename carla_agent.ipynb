{
 "cells": [
  {
   "metadata": {
    "ExecuteTime": {
     "end_time": "2025-05-05T11:41:34.928118Z",
     "start_time": "2025-05-05T11:40:47.469594Z"
    }
   },
   "cell_type": "code",
   "source": [
    "#!/usr/bin/env python\n",
    "\n",
    "import carla\n",
    "import random\n",
    "import time\n",
    "import numpy as np\n",
    "\n",
    "class SelfDrivingAgent:\n",
    "    def __init__(self):\n",
    "        # Connect to the client\n",
    "        self.client = carla.Client('localhost', 2000)\n",
    "        self.client.set_timeout(10.0)\n",
    "\n",
    "        # Get the world\n",
    "        self.world = self.client.get_world()\n",
    "        self.blueprint_library = self.world.get_blueprint_library()\n",
    "        self.map = self.world.get_map()\n",
    "\n",
    "        # Set up vehicle\n",
    "        self.vehicle = None\n",
    "        self.sensors = {}\n",
    "\n",
    "    def setup_vehicle(self):\n",
    "        # Get a random vehicle blueprint\n",
    "        vehicle_bp = random.choice(self.blueprint_library.filter('vehicle.*'))\n",
    "\n",
    "        # Get a spawn point\n",
    "        spawn_points = self.map.get_spawn_points()\n",
    "        spawn_point = random.choice(spawn_points)\n",
    "\n",
    "        # Spawn the vehicle\n",
    "        self.vehicle = self.world.spawn_actor(vehicle_bp, spawn_point)\n",
    "        print(f\"Vehicle spawned: {self.vehicle.type_id}\")\n",
    "\n",
    "    def setup_sensors(self):\n",
    "        # Set up RGB camera\n",
    "        camera_bp = self.blueprint_library.find('sensor.camera.rgb')\n",
    "        camera_bp.set_attribute('image_size_x', '800')\n",
    "        camera_bp.set_attribute('image_size_y', '600')\n",
    "        camera_transform = carla.Transform(carla.Location(x=1.5, z=2.4))\n",
    "        self.sensors['camera'] = self.world.spawn_actor(\n",
    "            camera_bp,\n",
    "            camera_transform,\n",
    "            attach_to=self.vehicle\n",
    "        )\n",
    "        self.sensors['camera'].listen(lambda image: self.process_camera_data(image))\n",
    "\n",
    "        # Set up LiDAR\n",
    "        lidar_bp = self.blueprint_library.find('sensor.lidar.ray_cast')\n",
    "        lidar_bp.set_attribute('range', '50')\n",
    "        lidar_transform = carla.Transform(carla.Location(z=2.0))\n",
    "        self.sensors['lidar'] = self.world.spawn_actor(\n",
    "            lidar_bp,\n",
    "            lidar_transform,\n",
    "            attach_to=self.vehicle\n",
    "        )\n",
    "        self.sensors['lidar'].listen(lambda point_cloud: self.process_lidar_data(point_cloud))\n",
    "\n",
    "    def process_camera_data(self, image):\n",
    "        # Convert to numpy array\n",
    "        array = np.frombuffer(image.raw_data, dtype=np.dtype(\"uint8\"))\n",
    "        array = np.reshape(array, (image.height, image.width, 4))\n",
    "        array = array[:, :, :3]  # RGBA to RGB\n",
    "\n",
    "        # Process image for perception\n",
    "        # TODO: Implement computer vision algorithms here\n",
    "\n",
    "    def process_lidar_data(self, point_cloud):\n",
    "        # Convert to numpy array\n",
    "        data = np.copy(np.frombuffer(point_cloud.raw_data, dtype=np.dtype('f4')))\n",
    "        data = np.reshape(data, (int(data.shape[0] / 4), 4))\n",
    "\n",
    "        # Process point cloud for object detection and mapping\n",
    "        # TODO: Implement point cloud processing here\n",
    "\n",
    "    def plan_path(self):\n",
    "        # Path planning logic\n",
    "        # TODO: Implement path planning algorithms\n",
    "        pass\n",
    "\n",
    "    def control_vehicle(self):\n",
    "        # Implement vehicle control logic\n",
    "        control = carla.VehicleControl()\n",
    "        control.throttle = 0.5  # Example values\n",
    "        control.steer = 0.0\n",
    "        control.brake = 0.0\n",
    "        self.vehicle.apply_control(control)\n",
    "\n",
    "    def run(self):\n",
    "        try:\n",
    "            self.setup_vehicle()\n",
    "            self.setup_sensors()\n",
    "\n",
    "            # Control loop\n",
    "            while True:\n",
    "                # Perception\n",
    "                # Planning\n",
    "                self.plan_path()\n",
    "                # Control\n",
    "                self.control_vehicle()\n",
    "\n",
    "                time.sleep(0.1)  # Control frequency\n",
    "\n",
    "        finally:\n",
    "            # Clean up\n",
    "            for sensor in self.sensors.values():\n",
    "                sensor.destroy()\n",
    "            if self.vehicle:\n",
    "                self.vehicle.destroy()\n",
    "            print(\"All actors destroyed.\")\n",
    "\n",
    "if __name__ == \"__main__\":\n",
    "    try:\n",
    "        agent = SelfDrivingAgent()\n",
    "        agent.run()\n",
    "    except KeyboardInterrupt:\n",
    "        print(\"Simulation stopped by user\")"
   ],
   "id": "eafd5bb190afefd0",
   "outputs": [
    {
     "name": "stdout",
     "output_type": "stream",
     "text": [
      "Vehicle spawned: vehicle.citroen.c3\n",
      "All actors destroyed.\n",
      "Simulation stopped by user\n"
     ]
    }
   ],
   "execution_count": 2
  },
  {
   "metadata": {
    "ExecuteTime": {
     "end_time": "2025-05-05T11:56:37.720941Z",
     "start_time": "2025-05-05T11:56:32.084458Z"
    }
   },
   "cell_type": "code",
   "source": [
    "import carla\n",
    "client = carla.Client('localhost', 2000)\n",
    "world = client.get_world()\n",
    "client.load_world('Town05')"
   ],
   "id": "685375a134df3d20",
   "outputs": [
    {
     "data": {
      "text/plain": [
       "<carla.libcarla.World at 0x18a429dc9c0>"
      ]
     },
     "execution_count": 5,
     "metadata": {},
     "output_type": "execute_result"
    }
   ],
   "execution_count": 5
  },
  {
   "metadata": {
    "ExecuteTime": {
     "end_time": "2025-05-05T11:59:42.250026Z",
     "start_time": "2025-05-05T11:59:42.230734Z"
    }
   },
   "cell_type": "code",
   "source": [
    "spectator = world.get_spectator()\n",
    "\n",
    "transform = spectator.get_transform()\n",
    "\n",
    "location = transform.location\n",
    "rotation = transform.rotation\n",
    "\n",
    "spectator.set_transform(carla.Transform())"
   ],
   "id": "d6ee4847cbdd9066",
   "outputs": [],
   "execution_count": 7
  },
  {
   "metadata": {
    "ExecuteTime": {
     "end_time": "2025-05-05T12:00:45.217742Z",
     "start_time": "2025-05-05T12:00:41.284245Z"
    }
   },
   "cell_type": "code",
   "source": [
    "import random\n",
    "# Get the blueprint library and filter for the vehicle blueprints\n",
    "vehicle_blueprints = world.get_blueprint_library().filter('*vehicle*')\n",
    "\n",
    "# Get the map's spawn points\n",
    "spawn_points = world.get_map().get_spawn_points()\n",
    "\n",
    "# Spawn 50 vehicles randomly distributed throughout the map\n",
    "# for each spawn point, we choose a random vehicle from the blueprint library\n",
    "for i in range(0,50):\n",
    "    world.try_spawn_actor(random.choice(vehicle_blueprints), random.choice(spawn_points))"
   ],
   "id": "50ad9f3f6af340e5",
   "outputs": [],
   "execution_count": 10
  },
  {
   "metadata": {
    "ExecuteTime": {
     "end_time": "2025-05-05T12:02:16.563359Z",
     "start_time": "2025-05-05T12:02:16.536990Z"
    }
   },
   "cell_type": "code",
   "source": [
    "\n",
    "# To train an autonomous agent we need to simulate a the vehicle that it the autonomous agent will control\n",
    "ego_vehicle = world.spawn_actor(random.choice(vehicle_blueprints), random.choice(spawn_points))"
   ],
   "id": "b3e48c4669e439c4",
   "outputs": [],
   "execution_count": 11
  },
  {
   "metadata": {
    "ExecuteTime": {
     "end_time": "2025-05-05T12:04:16.443114Z",
     "start_time": "2025-05-05T12:04:16.415019Z"
    }
   },
   "cell_type": "code",
   "source": [
    "# Create a transform to place the camera on top of the vehicle\n",
    "camera_init_trans = carla.Transform(carla.Location(z=1.5))\n",
    "\n",
    "# We create the camera through a blueprint that defines its properties\n",
    "camera_bp = world.get_blueprint_library().find('sensor.camera.rgb')\n",
    "\n",
    "# We spawn the camera and attach it to our ego vehicle\n",
    "camera = world.spawn_actor(camera_bp, camera_init_trans, attach_to=ego_vehicle)"
   ],
   "id": "fc21a8f049ec785c",
   "outputs": [],
   "execution_count": 12
  },
  {
   "metadata": {
    "ExecuteTime": {
     "end_time": "2025-05-05T12:04:22.195468Z",
     "start_time": "2025-05-05T12:04:22.183369Z"
    }
   },
   "cell_type": "code",
   "source": [
    "# Start camera with PyGame callback\n",
    "camera.listen(lambda image: image.save_to_disk('out/%06d.png' % image.frame))"
   ],
   "id": "4df565ed70fc9efd",
   "outputs": [],
   "execution_count": 13
  },
  {
   "metadata": {
    "ExecuteTime": {
     "end_time": "2025-05-05T12:04:30.769469Z",
     "start_time": "2025-05-05T12:04:30.493044Z"
    }
   },
   "cell_type": "code",
   "source": [
    "for vehicle in world.get_actors().filter('*vehicle*'):\n",
    "    vehicle.set_autopilot(True)"
   ],
   "id": "9f9ec77e14092b75",
   "outputs": [],
   "execution_count": 14
  },
  {
   "metadata": {
    "ExecuteTime": {
     "end_time": "2025-05-05T12:06:37.562503Z",
     "start_time": "2025-05-05T12:06:37.427466Z"
    }
   },
   "cell_type": "code",
   "source": [
    "\n",
    "ego_bp = world.get_blueprint_library().find('vehicle.lincoln.mkz_2020')\n",
    "\n",
    "ego_bp.set_attribute('role_name', 'hero')\n",
    "\n",
    "ego_vehicle = world.spawn_actor(ego_bp, random.choice(spawn_points))\n"
   ],
   "id": "dde78365bee6c869",
   "outputs": [],
   "execution_count": 15
  },
  {
   "metadata": {
    "ExecuteTime": {
     "end_time": "2025-05-05T12:21:10.141Z",
     "start_time": "2025-05-05T12:21:10.128958Z"
    }
   },
   "cell_type": "code",
   "source": "camera.is_listening = False",
   "id": "cd658caffcef8ef",
   "outputs": [],
   "execution_count": 16
  },
  {
   "metadata": {
    "ExecuteTime": {
     "end_time": "2025-05-05T12:24:05.437971Z",
     "start_time": "2025-05-05T12:24:05.425874Z"
    }
   },
   "cell_type": "code",
   "source": "camera",
   "id": "6d276746ff0fcec2",
   "outputs": [
    {
     "data": {
      "text/plain": [
       "<carla.libcarla.ServerSideSensor at 0x18a42c12b90>"
      ]
     },
     "execution_count": 17,
     "metadata": {},
     "output_type": "execute_result"
    }
   ],
   "execution_count": 17
  },
  {
   "metadata": {},
   "cell_type": "code",
   "outputs": [],
   "execution_count": null,
   "source": "",
   "id": "97d76216f9c86a30"
  }
 ],
 "metadata": {},
 "nbformat": 4,
 "nbformat_minor": 5
}
